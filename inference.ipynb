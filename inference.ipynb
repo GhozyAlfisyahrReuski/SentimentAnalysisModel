{
 "cells": [
  {
   "cell_type": "code",
   "execution_count": 11,
   "id": "3d20831d",
   "metadata": {},
   "outputs": [
    {
     "name": "stdout",
     "output_type": "stream",
     "text": [
      "1/1 [==============================] - 0s 28ms/step\n",
      "Text: i feel happy today\n",
      " → Predicted: Normal (confidence: 0.87)\n",
      "\n",
      "Text: i am fucking suicidal i hate myself today\n",
      " → Predicted: Normal (confidence: 0.86)\n",
      "\n"
     ]
    }
   ],
   "source": [
    "from tensorflow.keras.models import load_model\n",
    "from tensorflow.keras.preprocessing.text import tokenizer_from_json\n",
    "from tensorflow.keras.preprocessing.sequence import pad_sequences\n",
    "import pickle\n",
    "\n",
    "# --- Load tokenizer ---\n",
    "with open(\"artifacts/tokenizer.json\", \"r\") as f:\n",
    "    tokenizer = tokenizer_from_json(f.read())\n",
    "\n",
    "# --- Load label encoder ---\n",
    "with open(\"artifacts/label_encoder.pkl\", \"rb\") as f:\n",
    "    label_encoder = pickle.load(f)\n",
    "\n",
    "# --- Load model ---\n",
    "model = load_model(\"artifacts/final_ann_model.keras\")\n",
    "\n",
    "MAX_LEN = 100  # must match training\n",
    "\n",
    "# --- Example texts \n",
    "texts = [\n",
    "    \"i feel happy today\",\n",
    "    \"i am fucking suicidal i hate myself today\"\n",
    "]\n",
    "\n",
    "# Convert to sequences\n",
    "seqs = tokenizer.texts_to_sequences(texts)\n",
    "padded = pad_sequences(seqs, maxlen=MAX_LEN, padding=\"post\")\n",
    "\n",
    "# Predict\n",
    "pred_probs = model.predict(padded)\n",
    "pred_classes = pred_probs.argmax(axis=1)\n",
    "decoded_labels = label_encoder.inverse_transform(pred_classes)\n",
    "\n",
    "# Show results\n",
    "for text, label, prob in zip(texts, decoded_labels, pred_probs):\n",
    "    print(f\"Text: {text}\")\n",
    "    print(f\" → Predicted: {label} (confidence: {prob.max():.2f})\\n\")\n"
   ]
  },
  {
   "cell_type": "code",
   "execution_count": null,
   "id": "25d02065",
   "metadata": {},
   "outputs": [],
   "source": []
  }
 ],
 "metadata": {
  "kernelspec": {
   "display_name": "h8_env",
   "language": "python",
   "name": "python3"
  },
  "language_info": {
   "codemirror_mode": {
    "name": "ipython",
    "version": 3
   },
   "file_extension": ".py",
   "mimetype": "text/x-python",
   "name": "python",
   "nbconvert_exporter": "python",
   "pygments_lexer": "ipython3",
   "version": "3.9.23"
  }
 },
 "nbformat": 4,
 "nbformat_minor": 5
}
